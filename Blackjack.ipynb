{
  "nbformat": 4,
  "nbformat_minor": 0,
  "metadata": {
    "colab": {
      "provenance": []
    },
    "kernelspec": {
      "name": "python3",
      "display_name": "Python 3"
    },
    "language_info": {
      "name": "python"
    }
  },
  "cells": [
    {
      "cell_type": "code",
      "execution_count": null,
      "metadata": {
        "id": "rjyiyWiAQgno"
      },
      "outputs": [],
      "source": [
        "def blackjack_hand_greater_than(hand_1, hand_2):\n",
        "    \"\"\"\n",
        "    Return True if hand_1 beats hand_2, and False otherwise.\n",
        "    \n",
        "    In order for hand_1 to beat hand_2 the following must be true:\n",
        "    - The total of hand_1 must not exceed 21\n",
        "    - The total of hand_1 must exceed the total of hand_2 OR hand_2's total must exceed 21\n",
        "    \n",
        "    Hands are represented as a list of cards. Each card is represented by a string.\n",
        "    \n",
        "    When adding up a hand's total, cards with numbers count for that many points. Face\n",
        "    cards ('J', 'Q', and 'K') are worth 10 points. 'A' can count for 1 or 11.\n",
        "    \n",
        "    When determining a hand's total, you should try to count aces in the way that \n",
        "    maximizes the hand's total without going over 21. e.g. the total of ['A', 'A', '9'] is 21,\n",
        "    the total of ['A', 'A', '9', '3'] is 14.\n",
        "    \n",
        "    Examples:\n",
        "    >>> blackjack_hand_greater_than(['K'], ['3', '4'])\n",
        "    True\n",
        "    >>> blackjack_hand_greater_than(['K'], ['10'])\n",
        "    False\n",
        "    >>> blackjack_hand_greater_than(['K', 'K', '2'], ['3'])\n",
        "    False\n",
        "    \"\"\"\n",
        "    def hand_sum(hand):\n",
        "        card_values = {'1':1,'2':2,'3':3,'4':4,'5':5,'6':6,'7':7,'8':8,'9':9,'10':10,'J':10,'Q':10,'K':10,'A':11}\n",
        "\n",
        "        hand_aces = hand.count('A')\n",
        "        print('Hand aces:', hand_aces)\n",
        "\n",
        "        hand_values = [card_values[card] for card in hand]\n",
        "        print('Hand values: ', hand_values)\n",
        "\n",
        "        hand_sum = sum(hand_values)\n",
        "\n",
        "        for ace in range(hand_aces):\n",
        "            if hand_sum > 21:\n",
        "                hand_sum -= 10\n",
        "\n",
        "        print('Hand sum:', hand_sum)\n",
        "        \n",
        "        return hand_sum\n",
        "    \n",
        "    print('---- Hand 1 ----')\n",
        "    hand_1_sum = hand_sum(hand_1)\n",
        "    \n",
        "    print('---- Hand 2 ----')\n",
        "    hand_2_sum = hand_sum(hand_2)\n",
        "    \n",
        "    if hand_1_sum > 21:\n",
        "        print('Hand 1 is over 21. Hand 2 wins.')\n",
        "        return False\n",
        "    elif hand_2_sum > 21:\n",
        "        print('Hand 2 is over 21. Hand 1 wins.')\n",
        "        return True\n",
        "    else:\n",
        "        print('Hand 1 beats Hand 2.' if hand_1_sum > hand_2_sum else 'Hand 2 beats Hand 1.')\n",
        "        return hand_1_sum > hand_2_sum"
      ]
    }
  ]
}